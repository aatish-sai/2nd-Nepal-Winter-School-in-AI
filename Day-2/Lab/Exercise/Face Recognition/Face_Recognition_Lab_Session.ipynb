{
  "nbformat": 4,
  "nbformat_minor": 0,
  "metadata": {
    "colab": {
      "name": "Face Recognition Lab Session.ipynb",
      "provenance": [],
      "collapsed_sections": []
    },
    "kernelspec": {
      "name": "python3",
      "display_name": "Python 3"
    }
  },
  "cells": [
    {
      "cell_type": "markdown",
      "metadata": {
        "id": "60SbroFWNetO",
        "colab_type": "text"
      },
      "source": [
        "# **Face Recognition using Eigenfaces**\n",
        "---\n",
        "\n",
        "\n"
      ]
    },
    {
      "cell_type": "markdown",
      "metadata": {
        "id": "ru9U1695Icvr",
        "colab_type": "text"
      },
      "source": [
        "####We will be using [FEI Face Database](https://fei.edu.br/~cet/facedatabase.html)  for our face recognition purpose. \n",
        "*Datasets consist of faces of 200 people and each person has two frontal images (one with a neutral expression and the other with a smiling facial expression), there are 400 full frontal face images manually registered and cropped.*\n",
        "<br><br>**We will use normalized, equalized and cropped frontal face images.**\n"
      ]
    },
    {
      "cell_type": "markdown",
      "metadata": {
        "id": "BP5ZLNC2R3w2",
        "colab_type": "text"
      },
      "source": [
        "Add dataset in your Colab using:\n",
        "\n",
        "\n",
        "```\n",
        "!wget <link> \n",
        "```\n",
        "\n"
      ]
    },
    {
      "cell_type": "markdown",
      "metadata": {
        "id": "iaFH6q_KSx2F",
        "colab_type": "text"
      },
      "source": [
        "Unzip your zip files using:\n",
        "```\n",
        "!unzip <name_of_your_zip_file>\n",
        "```"
      ]
    },
    {
      "cell_type": "code",
      "metadata": {
        "id": "YFl9qVufLaon",
        "colab_type": "code",
        "colab": {}
      },
      "source": [
        "# importing all the necessary packages \n",
        "import numpy as np\n",
        "from matplotlib import pyplot as plt\n",
        "from PIL import Image"
      ],
      "execution_count": 0,
      "outputs": []
    },
    {
      "cell_type": "markdown",
      "metadata": {
        "id": "W3ww40vAWP3x",
        "colab_type": "text"
      },
      "source": [
        "###Vectorization\n",
        "We will use Python Imaging Library (PIL) to load images from files.\n",
        "`PIL.Image.open()` Opens and identifies the given image file.`Note` Open into greyscale, or L(Luminance) mode: \n",
        "\n",
        "```\n",
        "img = Image.open(f'{i}a.jpg').convert('L')  # i ranges from 1 to 200\n",
        "img = img.resize((width, height),Image.ANTIALIAS) # for speed\n",
        "```\n",
        "Rearrange each Face image N x N into a column vector N<sup>2</sup> x 1. After Vectorization the shape of face matrix should be 200 x (width x height)\n",
        "\n",
        "\n",
        "\n"
      ]
    },
    {
      "cell_type": "code",
      "metadata": {
        "id": "bXE9RT4LLkbc",
        "colab_type": "code",
        "colab": {}
      },
      "source": [
        "# Check face_matrix.shape "
      ],
      "execution_count": 0,
      "outputs": []
    },
    {
      "cell_type": "code",
      "metadata": {
        "id": "GMOtYwJGLpcs",
        "colab_type": "code",
        "outputId": "625e21f7-ff71-4f51-c0e8-b7dc9a1b4037",
        "colab": {
          "base_uri": "https://localhost:8080/",
          "height": 34
        }
      },
      "source": [
        "# Find mean_face"
      ],
      "execution_count": 0,
      "outputs": [
        {
          "output_type": "execute_result",
          "data": {
            "text/plain": [
              "(2842,)"
            ]
          },
          "metadata": {
            "tags": []
          },
          "execution_count": 21
        }
      ]
    },
    {
      "cell_type": "markdown",
      "metadata": {
        "id": "q0OwQ1K6L4v_",
        "colab_type": "text"
      },
      "source": [
        "\n",
        "\n",
        "```\n",
        "plt.imshow(mean_face.reshape(height,width),cmap='gray'); \n",
        "plt.title('Mean Face')\n",
        "```\n",
        "\n",
        "### Normalization\n"
      ]
    },
    {
      "cell_type": "code",
      "metadata": {
        "id": "DTQV9LBGIL9O",
        "colab_type": "code",
        "colab": {}
      },
      "source": [
        "#Perfrom Normalization"
      ],
      "execution_count": 0,
      "outputs": []
    },
    {
      "cell_type": "code",
      "metadata": {
        "id": "W83ZmCxhL70s",
        "colab_type": "code",
        "colab": {}
      },
      "source": [
        "# Calculate covariance matrix\n",
        "#np.cov expects features as rows and observations as columns, so transpose\n"
      ],
      "execution_count": 0,
      "outputs": []
    },
    {
      "cell_type": "code",
      "metadata": {
        "id": "-PMGoutjL-sH",
        "colab_type": "code",
        "colab": {}
      },
      "source": [
        "#Find Eigen Vectors and Eigen Values, you can use SVD from np.linalg.svd"
      ],
      "execution_count": 0,
      "outputs": []
    },
    {
      "cell_type": "markdown",
      "metadata": {
        "id": "5zu-eFNSMCSA",
        "colab_type": "text"
      },
      "source": [
        "\n",
        "Plot the first 10 Eigenfaces\n",
        "```\n",
        "fig, axs = plt.subplots(1,3,figsize=(15,5))\n",
        "for i in np.arange(10):\n",
        "    ax = plt.subplot(2,5,i+1)\n",
        "    img = <eigen_vectors>[:,i].reshape(height,width)\n",
        "    plt.imshow(img, cmap='gray')\n",
        "fig.suptitle(\"First 10 Eigenfaces\", fontsize=16)\n",
        "```\n",
        "\n"
      ]
    },
    {
      "cell_type": "code",
      "metadata": {
        "id": "cxHgLEe-JYF-",
        "colab_type": "code",
        "colab": {}
      },
      "source": [
        "#Plot the first 10 Eigenfaces"
      ],
      "execution_count": 0,
      "outputs": []
    },
    {
      "cell_type": "markdown",
      "metadata": {
        "id": "r0BxKSEJMGCN",
        "colab_type": "text"
      },
      "source": [
        "\n",
        "Reconstruction with increasing Eigenfaces\n",
        "```\n",
        "fig, axs = plt.subplots(2,5,figsize=(15,6))\n",
        "for k, i in zip([0,1,9,19,39,79,159,199,399,799],np.arange(10)):\n",
        "    # Reconstruct the first picture '1a.jpg' whose index is 0.\n",
        "    # Get PC scores of the images (wights)\n",
        "    # Reconstruct first face in dataset using k PCs (projected_face)\n",
        "    ax = plt.subplot(2,5,i+1)\n",
        "    ax.set_title(\"k = \"+str(k+1))\n",
        "    plt.imshow(projected_face.reshape(height,width)+mean_face.reshape(height,width),cmap='gray');\n",
        "```\n",
        "\n"
      ]
    },
    {
      "cell_type": "code",
      "metadata": {
        "id": "O5BDr1oaMLwT",
        "colab_type": "code",
        "colab": {}
      },
      "source": [
        "# Reconstruct with increasing Eigenfaces"
      ],
      "execution_count": 0,
      "outputs": []
    }
  ]
}