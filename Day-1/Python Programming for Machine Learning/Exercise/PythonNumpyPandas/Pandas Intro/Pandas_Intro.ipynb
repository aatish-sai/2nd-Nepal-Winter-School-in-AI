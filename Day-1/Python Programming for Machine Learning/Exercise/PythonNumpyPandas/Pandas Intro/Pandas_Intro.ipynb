{
 "cells": [
  {
   "cell_type": "markdown",
   "metadata": {},
   "source": [
    "# Import Pandas and Numpy"
   ]
  },
  {
   "cell_type": "code",
   "execution_count": null,
   "metadata": {},
   "outputs": [],
   "source": [
    "import pandas as pd\n",
    "import numpy as np "
   ]
  },
  {
   "cell_type": "markdown",
   "metadata": {},
   "source": [
    "# Pandas Series"
   ]
  },
  {
   "cell_type": "code",
   "execution_count": null,
   "metadata": {},
   "outputs": [],
   "source": [
    "#Creating an empty Series\n",
    "\n",
    "ser = pd.Series() \n",
    "  \n",
    "print(ser) "
   ]
  },
  {
   "cell_type": "code",
   "execution_count": null,
   "metadata": {},
   "outputs": [],
   "source": [
    "# Create a series by passing a list\n",
    "\n",
    "cities = pd.Series(['Kathmandu', 'Pokhara', 'Chitwan','Biratnagar'])\n",
    "print(cities)"
   ]
  },
  {
   "cell_type": "code",
   "execution_count": null,
   "metadata": {},
   "outputs": [],
   "source": [
    "#Creating series from a list\n",
    "\n",
    "List = ['Kathmandu', 'Pokhara', 'Chitwan','Biratnagar']\n",
    "  \n",
    "ser = pd.Series(List) \n",
    "print(ser) "
   ]
  },
  {
   "cell_type": "code",
   "execution_count": null,
   "metadata": {},
   "outputs": [],
   "source": [
    "#Creating series from an array\n",
    "  \n",
    "\n",
    "data = np.array(['Kathmandu', 'Pokhara', 'Chitwan','Biratnagar']) \n",
    "  \n",
    "ser = pd.Series(data) \n",
    "print(ser) "
   ]
  },
  {
   "cell_type": "code",
   "execution_count": null,
   "metadata": {},
   "outputs": [],
   "source": [
    "#Creating a series from array with index\n",
    "\n",
    "data = np.array(['Kathmandu', 'Pokhara', 'Chitwan','Biratnagar']) \n",
    "  \n",
    "# providing an index \n",
    "ser = pd.Series(data, index =['a', 'b', 'c', 'd']) \n",
    "print(ser) "
   ]
  },
  {
   "cell_type": "markdown",
   "metadata": {},
   "source": [
    "## Does it remind you of something in Python DataTypes?\n",
    "Dictionaries??"
   ]
  },
  {
   "cell_type": "markdown",
   "metadata": {},
   "source": [
    "# Pandas DataFrames\n"
   ]
  },
  {
   "cell_type": "code",
   "execution_count": null,
   "metadata": {},
   "outputs": [],
   "source": [
    "# Countries_data\n",
    "\n",
    "data = [{'Country': 'Nepal', 'Capital': 'Kathmandu', 'Population': 28095714 },\n",
    "         {'Country': 'India', 'Capital': 'New Delhi', 'Population': 1352642280 },\n",
    "         {'Country': 'Bangladesh', 'Capital': 'Dhaka', 'Population': 161376708 },]\n",
    "\n",
    "print(data)"
   ]
  },
  {
   "cell_type": "code",
   "execution_count": null,
   "metadata": {},
   "outputs": [],
   "source": [
    "# Create dataframe from Python data structures\n",
    "df = pd.DataFrame(data)\n",
    "print(df)"
   ]
  },
  {
   "cell_type": "code",
   "execution_count": null,
   "metadata": {},
   "outputs": [],
   "source": [
    "df  #typing the name of the dateframe gives you a nicely formatted table"
   ]
  },
  {
   "cell_type": "markdown",
   "metadata": {},
   "source": [
    "# DataFrames from Series\n"
   ]
  },
  {
   "cell_type": "code",
   "execution_count": null,
   "metadata": {},
   "outputs": [],
   "source": [
    "# Let us create three series for cities, population and elevation\n",
    "\n",
    "cities = ['Kathmandu', 'Pokhara', 'Chitwan', 'Biratnagar']\n",
    "population = [975453, 426759, 280502, 242548]\n",
    "elevation = [1400, 1400, 208, 80]"
   ]
  },
  {
   "cell_type": "code",
   "execution_count": null,
   "metadata": {},
   "outputs": [],
   "source": []
  },
  {
   "cell_type": "code",
   "execution_count": null,
   "metadata": {},
   "outputs": [],
   "source": [
    "# Create an empty DataFrame, and add new columns to it from the series we created earlier\n",
    "\n",
    "cities_df = pd.DataFrame()\n",
    "cities_df['name'] = cities\n",
    "cities_df['population'] = population\n",
    "cities_df['elevation'] = elevation"
   ]
  },
  {
   "cell_type": "code",
   "execution_count": null,
   "metadata": {},
   "outputs": [],
   "source": [
    "cities_df"
   ]
  },
  {
   "cell_type": "code",
   "execution_count": null,
   "metadata": {},
   "outputs": [],
   "source": [
    "# The columns have different dtypes\n",
    "\n",
    "print(cities_df.dtypes)"
   ]
  },
  {
   "cell_type": "markdown",
   "metadata": {},
   "source": [
    "# Importing Data"
   ]
  },
  {
   "cell_type": "code",
   "execution_count": null,
   "metadata": {},
   "outputs": [],
   "source": [
    "saarc = pd.read_csv('../data/saarc.csv')"
   ]
  },
  {
   "cell_type": "code",
   "execution_count": null,
   "metadata": {},
   "outputs": [],
   "source": [
    "saarc"
   ]
  },
  {
   "cell_type": "code",
   "execution_count": null,
   "metadata": {},
   "outputs": [],
   "source": [
    "saarc.info()"
   ]
  },
  {
   "cell_type": "code",
   "execution_count": null,
   "metadata": {},
   "outputs": [],
   "source": [
    "# Select single column only\n",
    "saarc['Country']"
   ]
  },
  {
   "cell_type": "code",
   "execution_count": null,
   "metadata": {},
   "outputs": [],
   "source": [
    "saarc[['Country','GDP']]"
   ]
  },
  {
   "cell_type": "markdown",
   "metadata": {},
   "source": [
    "# Statistical Analysis"
   ]
  },
  {
   "cell_type": "code",
   "execution_count": null,
   "metadata": {},
   "outputs": [],
   "source": [
    "print(saarc['GDP'].min(),\n",
    "      saarc['GDP'].max(), \n",
    "      saarc['GDP'].mean(),\n",
    "      saarc['GDP'].std())\n",
    "\n"
   ]
  },
  {
   "cell_type": "markdown",
   "metadata": {},
   "source": [
    "# Visualizations"
   ]
  },
  {
   "cell_type": "code",
   "execution_count": null,
   "metadata": {},
   "outputs": [],
   "source": [
    "import matplotlib.pyplot as plt"
   ]
  },
  {
   "cell_type": "code",
   "execution_count": null,
   "metadata": {},
   "outputs": [],
   "source": [
    "# a scatter plot comparing Population and GDP\n",
    "\n",
    "saarc.plot.scatter(x=\"Population\", y=\"GDP\", c=\"Blue\")"
   ]
  },
  {
   "cell_type": "code",
   "execution_count": null,
   "metadata": {},
   "outputs": [],
   "source": [
    "# a scatter plot comparing GDP and GDP_per_Capita\n",
    "\n",
    "saarc.plot.scatter(x=\"GDP\", y=\"GDPperCapita\", c=\"Blue\")"
   ]
  },
  {
   "cell_type": "markdown",
   "metadata": {},
   "source": [
    "# Exercise\n",
    "Print mean and standard deviation of GDPperCapita"
   ]
  },
  {
   "cell_type": "code",
   "execution_count": null,
   "metadata": {},
   "outputs": [],
   "source": []
  }
 ],
 "metadata": {
  "kernelspec": {
   "display_name": "Python 3",
   "language": "python",
   "name": "python3"
  },
  "language_info": {
   "codemirror_mode": {
    "name": "ipython",
    "version": 3
   },
   "file_extension": ".py",
   "mimetype": "text/x-python",
   "name": "python",
   "nbconvert_exporter": "python",
   "pygments_lexer": "ipython3",
   "version": "3.7.4"
  }
 },
 "nbformat": 4,
 "nbformat_minor": 2
}
